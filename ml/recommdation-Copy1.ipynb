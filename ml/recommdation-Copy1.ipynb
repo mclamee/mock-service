{
 "cells": [
  {
   "cell_type": "code",
   "execution_count": 4,
   "metadata": {
    "scrolled": true
   },
   "outputs": [
    {
     "name": "stdout",
     "output_type": "stream",
     "text": [
      "Looking in indexes: https://pypi.tuna.tsinghua.edu.cn/simple\n",
      "Collecting tensorflow==2.2.3\n",
      "  Downloading https://pypi.tuna.tsinghua.edu.cn/packages/13/77/0d2bd8c6e5f9dc399db2dd499ba44bbfacc669aa65eac52fd16d521b498b/tensorflow-2.2.3-cp38-cp38-macosx_10_11_x86_64.whl (175.7 MB)\n",
      "\u001b[K     |████████████████████████████████| 175.7 MB 1.1 MB/s eta 0:00:014\n",
      "\u001b[?25hCollecting keras-preprocessing>=1.1.0\n",
      "  Downloading https://pypi.tuna.tsinghua.edu.cn/packages/79/4c/7c3275a01e12ef9368a892926ab932b33bb13d55794881e3573482b378a7/Keras_Preprocessing-1.1.2-py2.py3-none-any.whl (42 kB)\n",
      "\u001b[K     |████████████████████████████████| 42 kB 4.6 MB/s  eta 0:00:01\n",
      "\u001b[?25hCollecting absl-py>=0.7.0\n",
      "  Downloading https://pypi.tuna.tsinghua.edu.cn/packages/23/47/835652c7e19530973c73c65e652fc53bd05725d5a7cf9bb8706777869c1e/absl_py-0.13.0-py3-none-any.whl (132 kB)\n",
      "\u001b[K     |████████████████████████████████| 132 kB 12.0 MB/s eta 0:00:01\n",
      "\u001b[?25hCollecting astunparse==1.6.3\n",
      "  Downloading https://pypi.tuna.tsinghua.edu.cn/packages/2b/03/13dde6512ad7b4557eb792fbcf0c653af6076b81e5941d36ec61f7ce6028/astunparse-1.6.3-py2.py3-none-any.whl (12 kB)\n",
      "Collecting numpy<1.19.0,>=1.16.0\n",
      "  Downloading https://pypi.tuna.tsinghua.edu.cn/packages/6d/77/9492f79d58c9abb8a3a93a40ab661ca7f64169a6010ea1365a51294bd64a/numpy-1.18.5-cp38-cp38-macosx_10_9_x86_64.whl (15.1 MB)\n",
      "\u001b[K     |████████████████████████████████| 15.1 MB 5.7 MB/s eta 0:00:011\n",
      "\u001b[?25hCollecting protobuf>=3.8.0\n",
      "  Downloading https://pypi.tuna.tsinghua.edu.cn/packages/af/f4/0f7ea83bc253f296ed7159c29e000a07f0c82fccd3128e38b7487773cf41/protobuf-3.17.3-cp38-cp38-macosx_10_9_x86_64.whl (1.0 MB)\n",
      "\u001b[K     |████████████████████████████████| 1.0 MB 12.2 MB/s eta 0:00:01\n",
      "\u001b[?25hCollecting google-pasta>=0.1.8\n",
      "  Downloading https://pypi.tuna.tsinghua.edu.cn/packages/a3/de/c648ef6835192e6e2cc03f40b19eeda4382c49b5bafb43d88b931c4c74ac/google_pasta-0.2.0-py3-none-any.whl (57 kB)\n",
      "\u001b[K     |████████████████████████████████| 57 kB 10.2 MB/s eta 0:00:01\n",
      "\u001b[?25hCollecting tensorflow-estimator<2.3.0,>=2.2.0\n",
      "  Downloading https://pypi.tuna.tsinghua.edu.cn/packages/a4/f5/926ae53d6a226ec0fda5208e0e581cffed895ccc89e36ba76a8e60895b78/tensorflow_estimator-2.2.0-py2.py3-none-any.whl (454 kB)\n",
      "\u001b[K     |████████████████████████████████| 454 kB 6.1 MB/s eta 0:00:01\n",
      "\u001b[?25hRequirement already satisfied: six>=1.12.0 in /Users/wizhang/.pyenv/versions/3.8.2/lib/python3.8/site-packages (from tensorflow==2.2.3) (1.15.0)\n",
      "Collecting h5py<2.11.0,>=2.10.0\n",
      "  Downloading https://pypi.tuna.tsinghua.edu.cn/packages/7a/1d/e64957225e693f27f2c8024923449830fc1d1ca513e7675fb10939dc2caa/h5py-2.10.0-cp38-cp38-macosx_10_9_x86_64.whl (3.0 MB)\n",
      "\u001b[K     |████████████████████████████████| 3.0 MB 16.8 MB/s eta 0:00:01\n",
      "\u001b[?25hCollecting grpcio>=1.8.6\n",
      "  Downloading https://pypi.tuna.tsinghua.edu.cn/packages/3f/59/39a27ed6c4d0fd234266c6c8b9ad34c005f5ddf961971d0956e5f2df3b3d/grpcio-1.38.0-cp38-cp38-macosx_10_10_x86_64.whl (3.9 MB)\n",
      "\u001b[K     |████████████████████████████████| 3.9 MB 9.0 MB/s eta 0:00:01\n",
      "\u001b[?25hCollecting wheel>=0.26; python_version >= \"3\"\n",
      "  Downloading https://pypi.tuna.tsinghua.edu.cn/packages/65/63/39d04c74222770ed1589c0eaba06c05891801219272420b40311cd60c880/wheel-0.36.2-py2.py3-none-any.whl (35 kB)\n",
      "Collecting gast==0.3.3\n",
      "  Downloading https://pypi.tuna.tsinghua.edu.cn/packages/d6/84/759f5dd23fec8ba71952d97bcc7e2c9d7d63bdc582421f3cd4be845f0c98/gast-0.3.3-py2.py3-none-any.whl (9.7 kB)\n",
      "Collecting tensorboard<2.3.0,>=2.2.0\n",
      "  Downloading https://pypi.tuna.tsinghua.edu.cn/packages/1d/74/0a6fcb206dcc72a6da9a62dd81784bfdbff5fedb099982861dc2219014fb/tensorboard-2.2.2-py3-none-any.whl (3.0 MB)\n",
      "\u001b[K     |████████████████████████████████| 3.0 MB 11.4 MB/s eta 0:00:01\n",
      "\u001b[?25hCollecting opt-einsum>=2.3.2\n",
      "  Downloading https://pypi.tuna.tsinghua.edu.cn/packages/bc/19/404708a7e54ad2798907210462fd950c3442ea51acc8790f3da48d2bee8b/opt_einsum-3.3.0-py3-none-any.whl (65 kB)\n",
      "\u001b[K     |████████████████████████████████| 65 kB 5.9 MB/s  eta 0:00:01\n",
      "\u001b[?25hCollecting wrapt>=1.11.1\n",
      "  Downloading https://pypi.tuna.tsinghua.edu.cn/packages/82/f7/e43cefbe88c5fd371f4cf0cf5eb3feccd07515af9fd6cf7dbf1d1793a797/wrapt-1.12.1.tar.gz (27 kB)\n",
      "Collecting termcolor>=1.1.0\n",
      "  Downloading https://pypi.tuna.tsinghua.edu.cn/packages/8a/48/a76be51647d0eb9f10e2a4511bf3ffb8cc1e6b14e9e4fab46173aa79f981/termcolor-1.1.0.tar.gz (3.9 kB)\n",
      "Collecting tensorboard-plugin-wit>=1.6.0\n",
      "  Downloading https://pypi.tuna.tsinghua.edu.cn/packages/1a/c1/499e600ba0c618b451cd9c425ae1c177249940a2086316552fee7d86c954/tensorboard_plugin_wit-1.8.0-py3-none-any.whl (781 kB)\n",
      "\u001b[K     |████████████████████████████████| 781 kB 6.0 MB/s eta 0:00:01\n",
      "\u001b[?25hCollecting google-auth-oauthlib<0.5,>=0.4.1\n",
      "  Downloading https://pypi.tuna.tsinghua.edu.cn/packages/9d/d3/7541e89f1fc456eef157224f597a8bba22589db6369a03eaba68c11f07a0/google_auth_oauthlib-0.4.4-py2.py3-none-any.whl (18 kB)\n",
      "Collecting markdown>=2.6.8\n",
      "  Downloading https://pypi.tuna.tsinghua.edu.cn/packages/6e/33/1ae0f71395e618d6140fbbc9587cc3156591f748226075e0f7d6f9176522/Markdown-3.3.4-py3-none-any.whl (97 kB)\n",
      "\u001b[K     |████████████████████████████████| 97 kB 7.0 MB/s  eta 0:00:01\n",
      "\u001b[?25hRequirement already satisfied: setuptools>=41.0.0 in /Users/wizhang/.pyenv/versions/3.8.2/lib/python3.8/site-packages (from tensorboard<2.3.0,>=2.2.0->tensorflow==2.2.3) (41.2.0)\n",
      "Collecting werkzeug>=0.11.15\n",
      "  Downloading https://pypi.tuna.tsinghua.edu.cn/packages/bd/24/11c3ea5a7e866bf2d97f0501d0b4b1c9bbeade102bb4b588f0d2919a5212/Werkzeug-2.0.1-py3-none-any.whl (288 kB)\n",
      "\u001b[K     |████████████████████████████████| 288 kB 8.2 MB/s eta 0:00:01\n",
      "\u001b[?25hCollecting google-auth<2,>=1.6.3\n",
      "  Downloading https://pypi.tuna.tsinghua.edu.cn/packages/50/ac/12df156754ee13ea4d57c77de8c4298e8fd00b0e580fecd8c7395374a7d8/google_auth-1.31.0-py2.py3-none-any.whl (147 kB)\n",
      "\u001b[K     |████████████████████████████████| 147 kB 6.2 MB/s eta 0:00:01\n",
      "\u001b[?25hRequirement already satisfied: requests<3,>=2.21.0 in /Users/wizhang/.pyenv/versions/3.8.2/lib/python3.8/site-packages (from tensorboard<2.3.0,>=2.2.0->tensorflow==2.2.3) (2.23.0)\n",
      "Collecting requests-oauthlib>=0.7.0\n",
      "  Downloading https://pypi.tuna.tsinghua.edu.cn/packages/a3/12/b92740d845ab62ea4edf04d2f4164d82532b5a0b03836d4d4e71c6f3d379/requests_oauthlib-1.3.0-py2.py3-none-any.whl (23 kB)\n",
      "Collecting pyasn1-modules>=0.2.1\n",
      "  Downloading https://pypi.tuna.tsinghua.edu.cn/packages/95/de/214830a981892a3e286c3794f41ae67a4495df1108c3da8a9f62159b9a9d/pyasn1_modules-0.2.8-py2.py3-none-any.whl (155 kB)\n",
      "\u001b[K     |████████████████████████████████| 155 kB 4.9 MB/s eta 0:00:01\n",
      "\u001b[?25hCollecting rsa<5,>=3.1.4; python_version >= \"3.6\"\n",
      "  Downloading https://pypi.tuna.tsinghua.edu.cn/packages/e9/93/0c0f002031f18b53af7a6166103c02b9c0667be528944137cc954ec921b3/rsa-4.7.2-py3-none-any.whl (34 kB)\n",
      "Collecting cachetools<5.0,>=2.0.0\n",
      "  Downloading https://pypi.tuna.tsinghua.edu.cn/packages/bf/28/c4f5796c67ad06bb91d98d543a5e01805c1ff065e08871f78e52d2a331ad/cachetools-4.2.2-py3-none-any.whl (11 kB)\n",
      "Requirement already satisfied: idna<3,>=2.5 in /Users/wizhang/.pyenv/versions/3.8.2/lib/python3.8/site-packages (from requests<3,>=2.21.0->tensorboard<2.3.0,>=2.2.0->tensorflow==2.2.3) (2.9)\n",
      "Requirement already satisfied: urllib3!=1.25.0,!=1.25.1,<1.26,>=1.21.1 in /Users/wizhang/.pyenv/versions/3.8.2/lib/python3.8/site-packages (from requests<3,>=2.21.0->tensorboard<2.3.0,>=2.2.0->tensorflow==2.2.3) (1.25.9)\n",
      "Requirement already satisfied: chardet<4,>=3.0.2 in /Users/wizhang/.pyenv/versions/3.8.2/lib/python3.8/site-packages (from requests<3,>=2.21.0->tensorboard<2.3.0,>=2.2.0->tensorflow==2.2.3) (3.0.4)\n",
      "Requirement already satisfied: certifi>=2017.4.17 in /Users/wizhang/.pyenv/versions/3.8.2/lib/python3.8/site-packages (from requests<3,>=2.21.0->tensorboard<2.3.0,>=2.2.0->tensorflow==2.2.3) (2020.4.5.2)\n",
      "Collecting oauthlib>=3.0.0\n",
      "  Downloading https://pypi.tuna.tsinghua.edu.cn/packages/e8/5d/9dd1c29e5a786525f6342f6c1d812ed2e37edc653ad297048c1668988053/oauthlib-3.1.1-py2.py3-none-any.whl (146 kB)\n",
      "\u001b[K     |████████████████████████████████| 146 kB 6.2 MB/s eta 0:00:01\n",
      "\u001b[?25hCollecting pyasn1<0.5.0,>=0.4.6\n",
      "  Downloading https://pypi.tuna.tsinghua.edu.cn/packages/62/1e/a94a8d635fa3ce4cfc7f506003548d0a2447ae76fd5ca53932970fe3053f/pyasn1-0.4.8-py2.py3-none-any.whl (77 kB)\n"
     ]
    },
    {
     "name": "stdout",
     "output_type": "stream",
     "text": [
      "\u001b[K     |████████████████████████████████| 77 kB 4.9 MB/s eta 0:00:011\n",
      "\u001b[?25hUsing legacy 'setup.py install' for wrapt, since package 'wheel' is not installed.\n",
      "Using legacy 'setup.py install' for termcolor, since package 'wheel' is not installed.\n",
      "Installing collected packages: numpy, keras-preprocessing, absl-py, wheel, astunparse, protobuf, google-pasta, tensorflow-estimator, h5py, grpcio, gast, tensorboard-plugin-wit, pyasn1, pyasn1-modules, rsa, cachetools, google-auth, oauthlib, requests-oauthlib, google-auth-oauthlib, markdown, werkzeug, tensorboard, opt-einsum, wrapt, termcolor, tensorflow\n",
      "    Running setup.py install for wrapt ... \u001b[?25ldone\n",
      "\u001b[?25h    Running setup.py install for termcolor ... \u001b[?25ldone\n",
      "\u001b[?25hSuccessfully installed absl-py-0.13.0 astunparse-1.6.3 cachetools-4.2.2 gast-0.3.3 google-auth-1.31.0 google-auth-oauthlib-0.4.4 google-pasta-0.2.0 grpcio-1.38.0 h5py-2.10.0 keras-preprocessing-1.1.2 markdown-3.3.4 numpy-1.18.5 oauthlib-3.1.1 opt-einsum-3.3.0 protobuf-3.17.3 pyasn1-0.4.8 pyasn1-modules-0.2.8 requests-oauthlib-1.3.0 rsa-4.7.2 tensorboard-2.2.2 tensorboard-plugin-wit-1.8.0 tensorflow-2.2.3 tensorflow-estimator-2.2.0 termcolor-1.1.0 werkzeug-2.0.1 wheel-0.36.2 wrapt-1.12.1\n",
      "\u001b[33mWARNING: You are using pip version 20.2.3; however, version 21.1.2 is available.\n",
      "You should consider upgrading via the '/Users/wizhang/.pyenv/versions/3.8.2/bin/python -m pip install --upgrade pip' command.\u001b[0m\n"
     ]
    }
   ],
   "source": [
    "!pip install -i https://pypi.tuna.tsinghua.edu.cn/simple tensorflow==2.2.3"
   ]
  },
  {
   "cell_type": "code",
   "execution_count": 69,
   "metadata": {},
   "outputs": [
    {
     "name": "stdout",
     "output_type": "stream",
     "text": [
      "2.2.3\n"
     ]
    }
   ],
   "source": [
    "import numpy as np\n",
    "import tensorflow as tf\n",
    "\n",
    "print(tf.__version__)"
   ]
  },
  {
   "cell_type": "code",
   "execution_count": 70,
   "metadata": {},
   "outputs": [],
   "source": [
    "users = ['清淡,25,ANY', '重口,25,ANY', '清淡,50,中餐', '清淡,100,ANY']\n",
    "foods = ['桃源春卷', '三圣面', '大食代', '高级茶餐厅', '海底捞', '山西手工面']\n",
    "features = ['清淡','重口','辣椒','健康','减肥餐','我爱面食','我爱米饭','特色','本地','网红','价格低','价格中','价格高']\n",
    "\n",
    "num_users = len(users)\n",
    "num_foods = len(foods)\n",
    "num_features = len(features)\n",
    "num_recommdations = 3"
   ]
  },
  {
   "cell_type": "code",
   "execution_count": 71,
   "metadata": {},
   "outputs": [],
   "source": [
    "# user reates foods\n",
    "users_foods = tf.constant(\n",
    "[\n",
    "        [4, 3, 3, 0, 2, 0],\n",
    "        [0, 10, 4, 0, 6, 8],\n",
    "        [10, 3, 3, 0, 3, 2],\n",
    "        [10, 9, 0, 10, 0, 2]\n",
    "], dtype = tf.float32\n",
    ")\n",
    "\n",
    "# movie has features\n",
    "foods_features = tf.constant([\n",
    "        [1, 0, 0, 1, 1, 1, 0, 1, 0, 1, 0, 1, 0],\n",
    "        [0, 1, 1, 0, 0, 1, 0, 1, 1, 1, 1, 0, 0],\n",
    "        [1, 1, 1, 0, 0, 1, 1, 0, 0, 0, 0, 1, 0],\n",
    "        [1, 0, 0, 1, 1, 0, 1, 1, 0, 1, 0, 0, 1],\n",
    "        [0, 1, 1, 0, 0, 0, 0, 1, 0, 1, 0, 0, 1],\n",
    "        [1, 1, 1, 0, 0, 1, 0, 1, 0, 0, 1, 0, 0]\n",
    "], dtype = tf.float32)\n"
   ]
  },
  {
   "cell_type": "code",
   "execution_count": 72,
   "metadata": {},
   "outputs": [
    {
     "data": {
      "text/plain": [
       "<tf.Tensor: shape=(4, 13), dtype=float32, numpy=\n",
       "array([[ 7.,  8.,  8.,  4.,  4., 10.,  3.,  9.,  3.,  9.,  3.,  7.,  2.],\n",
       "       [12., 28., 28.,  0.,  0., 22.,  4., 24., 10., 16., 18.,  4.,  6.],\n",
       "       [15., 11., 11., 10., 10., 18.,  3., 18.,  3., 16.,  5., 13.,  3.],\n",
       "       [22., 11., 11., 20., 20., 21., 10., 31.,  9., 29., 11., 10., 10.]],\n",
       "      dtype=float32)>"
      ]
     },
     "execution_count": 72,
     "metadata": {},
     "output_type": "execute_result"
    }
   ],
   "source": [
    "# Mattrix: the user rated features\n",
    "users_features = tf.matmul(users_foods, foods_features)\n",
    "users_features"
   ]
  },
  {
   "cell_type": "code",
   "execution_count": 73,
   "metadata": {},
   "outputs": [
    {
     "data": {
      "text/plain": [
       "<tf.Tensor: shape=(4, 13), dtype=float32, numpy=\n",
       "array([[0.09090909, 0.1038961 , 0.1038961 , 0.05194805, 0.05194805,\n",
       "        0.12987013, 0.03896104, 0.11688311, 0.03896104, 0.11688311,\n",
       "        0.03896104, 0.09090909, 0.02597403],\n",
       "       [0.06976745, 0.1627907 , 0.1627907 , 0.        , 0.        ,\n",
       "        0.12790698, 0.02325581, 0.13953489, 0.05813954, 0.09302326,\n",
       "        0.10465116, 0.02325581, 0.03488372],\n",
       "       [0.11029412, 0.08088236, 0.08088236, 0.07352941, 0.07352941,\n",
       "        0.13235295, 0.02205882, 0.13235295, 0.02205882, 0.11764706,\n",
       "        0.03676471, 0.09558824, 0.02205882],\n",
       "       [0.10232558, 0.05116279, 0.05116279, 0.09302326, 0.09302326,\n",
       "        0.09767442, 0.04651163, 0.14418605, 0.04186046, 0.13488372,\n",
       "        0.05116279, 0.04651163, 0.04651163]], dtype=float32)>"
      ]
     },
     "execution_count": 73,
     "metadata": {},
     "output_type": "execute_result"
    }
   ],
   "source": [
    "# scale up\n",
    "users_features = users_features / tf.reduce_sum(users_features, axis=1, keepdims=True)\n",
    "users_features"
   ]
  },
  {
   "cell_type": "code",
   "execution_count": 74,
   "metadata": {},
   "outputs": [
    {
     "data": {
      "text/plain": [
       "<tf.Tensor: shape=(4, 13), dtype=int32, numpy=\n",
       "array([[ 5,  7,  9,  1,  2,  0, 11,  3,  4,  6,  8, 10, 12],\n",
       "       [ 1,  2,  7,  5, 10,  9,  0,  8, 12,  6, 11,  3,  4],\n",
       "       [ 5,  7,  9,  0, 11,  1,  2,  3,  4, 10,  6,  8, 12],\n",
       "       [ 7,  9,  0,  5,  3,  4,  1,  2, 10,  6, 11, 12,  8]], dtype=int32)>"
      ]
     },
     "execution_count": 74,
     "metadata": {},
     "output_type": "execute_result"
    }
   ],
   "source": [
    "# Rank the user rated features that each of the users like the most so far\n",
    "# nn = neural network\n",
    "top_users_features = tf.nn.top_k(users_features, num_features)[1]\n",
    "top_users_features # indexes of which movie which user like the most"
   ]
  },
  {
   "cell_type": "code",
   "execution_count": 75,
   "metadata": {},
   "outputs": [
    {
     "name": "stdout",
     "output_type": "stream",
     "text": [
      "清淡,25,ANY: ['我爱面食', '特色', '网红', '重口', '辣椒', '清淡', '价格中', '健康', '减肥餐', '我爱米饭', '本地', '价格低', '价格高']\n",
      "重口,25,ANY: ['重口', '辣椒', '特色', '我爱面食', '价格低', '网红', '清淡', '本地', '价格高', '我爱米饭', '价格中', '健康', '减肥餐']\n",
      "清淡,50,中餐: ['我爱面食', '特色', '网红', '清淡', '价格中', '重口', '辣椒', '健康', '减肥餐', '价格低', '我爱米饭', '本地', '价格高']\n",
      "清淡,100,ANY: ['特色', '网红', '清淡', '我爱面食', '健康', '减肥餐', '重口', '辣椒', '价格低', '我爱米饭', '价格中', '价格高', '本地']\n"
     ]
    }
   ],
   "source": [
    "for i in range(num_users):\n",
    "    feature_names = [features[int(index)] for index in top_users_features[i]]\n",
    "    print('{}: {}'.format(users[i], feature_names))\n"
   ]
  },
  {
   "cell_type": "code",
   "execution_count": 76,
   "metadata": {},
   "outputs": [
    {
     "data": {
      "text/plain": [
       "<tf.Tensor: shape=(4, 6), dtype=float32, numpy=\n",
       "array([[0.6493506 , 0.64935064, 0.5584416 , 0.4935065 , 0.4675325 ,\n",
       "        0.5844156 ],\n",
       "       [0.45348838, 0.84883726, 0.5697675 , 0.3604651 , 0.5930233 ,\n",
       "        0.76744187],\n",
       "       [0.73529416, 0.6029412 , 0.52205884, 0.55147064, 0.43382356,\n",
       "        0.5735295 ],\n",
       "       [0.71162796, 0.572093  , 0.39534882, 0.6604651 , 0.42790696,\n",
       "        0.4976744 ]], dtype=float32)>"
      ]
     },
     "execution_count": 76,
     "metadata": {},
     "output_type": "execute_result"
    }
   ],
   "source": [
    "users_ratings = tf.matmul(users_features, tf.transpose(foods_features))\n",
    "users_ratings"
   ]
  },
  {
   "cell_type": "code",
   "execution_count": 77,
   "metadata": {},
   "outputs": [
    {
     "data": {
      "text/plain": [
       "<tf.Tensor: shape=(4, 3), dtype=int32, numpy=\n",
       "array([[1, 0, 5],\n",
       "       [1, 5, 4],\n",
       "       [0, 1, 5],\n",
       "       [0, 3, 1]], dtype=int32)>"
      ]
     },
     "execution_count": 77,
     "metadata": {},
     "output_type": "execute_result"
    }
   ],
   "source": [
    "top_foods = tf.nn.top_k(users_ratings, num_recommdations)[1]\n",
    "top_foods"
   ]
  },
  {
   "cell_type": "code",
   "execution_count": 78,
   "metadata": {},
   "outputs": [
    {
     "name": "stdout",
     "output_type": "stream",
     "text": [
      "清淡,25,ANY: ['三圣面', '桃源春卷', '山西手工面']\n",
      "重口,25,ANY: ['三圣面', '山西手工面', '海底捞']\n",
      "清淡,50,中餐: ['桃源春卷', '三圣面', '山西手工面']\n",
      "清淡,100,ANY: ['桃源春卷', '高级茶餐厅', '三圣面']\n"
     ]
    }
   ],
   "source": [
    "for i in range(num_users):\n",
    "    movie_names = [foods[index] for index in top_foods[i]]\n",
    "    print('{}: {}'.format(users[i], movie_names))"
   ]
  },
  {
   "cell_type": "code",
   "execution_count": 79,
   "metadata": {},
   "outputs": [
    {
     "data": {
      "text/plain": [
       "<tf.Tensor: shape=(4, 6), dtype=float32, numpy=\n",
       "array([[0.        , 0.        , 0.        , 0.4935065 , 0.        ,\n",
       "        0.5844156 ],\n",
       "       [0.45348838, 0.        , 0.        , 0.3604651 , 0.        ,\n",
       "        0.        ],\n",
       "       [0.        , 0.        , 0.        , 0.55147064, 0.        ,\n",
       "        0.        ],\n",
       "       [0.        , 0.        , 0.39534882, 0.        , 0.42790696,\n",
       "        0.        ]], dtype=float32)>"
      ]
     },
     "execution_count": 79,
     "metadata": {},
     "output_type": "execute_result"
    }
   ],
   "source": [
    "users_ratings_new = tf.where(\n",
    "    tf.equal(users_foods, tf.zeros_like(users_foods)),\n",
    "    users_ratings,\n",
    "    tf.zeros_like(tf.cast(users_foods, tf.float32))\n",
    ")\n",
    "users_ratings_new"
   ]
  },
  {
   "cell_type": "code",
   "execution_count": 80,
   "metadata": {},
   "outputs": [
    {
     "data": {
      "text/plain": [
       "<tf.Tensor: shape=(4, 3), dtype=int32, numpy=\n",
       "array([[5, 3, 0],\n",
       "       [0, 3, 1],\n",
       "       [3, 0, 1],\n",
       "       [4, 2, 0]], dtype=int32)>"
      ]
     },
     "execution_count": 80,
     "metadata": {},
     "output_type": "execute_result"
    }
   ],
   "source": [
    "top_foods = tf.nn.top_k(users_ratings_new, num_recommdations)[1]\n",
    "top_foods"
   ]
  },
  {
   "cell_type": "code",
   "execution_count": 81,
   "metadata": {},
   "outputs": [
    {
     "name": "stdout",
     "output_type": "stream",
     "text": [
      "清淡,25,ANY: ['山西手工面', '高级茶餐厅', '桃源春卷']\n",
      "重口,25,ANY: ['桃源春卷', '高级茶餐厅', '三圣面']\n",
      "清淡,50,中餐: ['高级茶餐厅', '桃源春卷', '三圣面']\n",
      "清淡,100,ANY: ['海底捞', '大食代', '桃源春卷']\n"
     ]
    }
   ],
   "source": [
    "for i in range(num_users):\n",
    "    movie_names = [foods[index] for index in top_foods[i]]\n",
    "    print('{}: {}'.format(users[i], movie_names))"
   ]
  },
  {
   "cell_type": "code",
   "execution_count": null,
   "metadata": {},
   "outputs": [],
   "source": []
  },
  {
   "cell_type": "code",
   "execution_count": null,
   "metadata": {},
   "outputs": [],
   "source": []
  }
 ],
 "metadata": {
  "kernelspec": {
   "display_name": "Python 3",
   "language": "python",
   "name": "python3"
  },
  "language_info": {
   "codemirror_mode": {
    "name": "ipython",
    "version": 3
   },
   "file_extension": ".py",
   "mimetype": "text/x-python",
   "name": "python",
   "nbconvert_exporter": "python",
   "pygments_lexer": "ipython3",
   "version": "3.8.2"
  }
 },
 "nbformat": 4,
 "nbformat_minor": 4
}
